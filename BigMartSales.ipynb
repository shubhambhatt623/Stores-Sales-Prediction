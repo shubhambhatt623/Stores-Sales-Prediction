{
 "cells": [
  {
   "cell_type": "markdown",
   "id": "a5e7a6d7",
   "metadata": {},
   "source": [
    "# Import Libraries"
   ]
  },
  {
   "cell_type": "code",
   "execution_count": 1,
   "id": "8713be0b",
   "metadata": {
    "ExecuteTime": {
     "end_time": "2021-09-29T16:00:10.077977Z",
     "start_time": "2021-09-29T16:00:06.410047Z"
    }
   },
   "outputs": [],
   "source": [
    "import numpy as np\n",
    "import pandas as pd\n",
    "import matplotlib.pyplot as plt\n",
    "%matplotlib inline\n",
    "import seaborn as sns\n",
    "\n",
    "import sklearn.model_selection\n",
    "from sklearn.model_selection import train_test_split\n",
    "from sklearn.model_selection import GridSearchCV\n",
    "from sklearn.metrics import mean_absolute_error,mean_squared_error,r2_score\n",
    "from sklearn.linear_model import LinearRegression\n",
    "from sklearn.preprocessing import LabelEncoder, OneHotEncoder\n",
    "\n",
    "import statsmodels\n",
    "import statsmodels.api as sm\n",
    "import statsmodels.stats.api as sms\n",
    "from statsmodels.tools.eval_measures import rmse\n",
    "\n",
    "from statsmodels.stats.outliers_influence import variance_inflation_factor\n",
    "\n",
    "import warnings\n",
    "warnings.filterwarnings(\"ignore\")"
   ]
  },
  {
   "cell_type": "code",
   "execution_count": 2,
   "id": "79c8d486",
   "metadata": {
    "ExecuteTime": {
     "end_time": "2021-09-29T16:00:10.232826Z",
     "start_time": "2021-09-29T16:00:10.128801Z"
    }
   },
   "outputs": [
    {
     "data": {
      "text/html": [
       "<div>\n",
       "<style scoped>\n",
       "    .dataframe tbody tr th:only-of-type {\n",
       "        vertical-align: middle;\n",
       "    }\n",
       "\n",
       "    .dataframe tbody tr th {\n",
       "        vertical-align: top;\n",
       "    }\n",
       "\n",
       "    .dataframe thead th {\n",
       "        text-align: right;\n",
       "    }\n",
       "</style>\n",
       "<table border=\"1\" class=\"dataframe\">\n",
       "  <thead>\n",
       "    <tr style=\"text-align: right;\">\n",
       "      <th></th>\n",
       "      <th>Item_Identifier</th>\n",
       "      <th>Item_Weight</th>\n",
       "      <th>Item_Fat_Content</th>\n",
       "      <th>Item_Visibility</th>\n",
       "      <th>Item_Type</th>\n",
       "      <th>Item_MRP</th>\n",
       "      <th>Outlet_Identifier</th>\n",
       "      <th>Outlet_Establishment_Year</th>\n",
       "      <th>Outlet_Size</th>\n",
       "      <th>Outlet_Location_Type</th>\n",
       "      <th>Outlet_Type</th>\n",
       "      <th>Item_Outlet_Sales</th>\n",
       "    </tr>\n",
       "  </thead>\n",
       "  <tbody>\n",
       "    <tr>\n",
       "      <th>0</th>\n",
       "      <td>FDA15</td>\n",
       "      <td>9.30</td>\n",
       "      <td>Low Fat</td>\n",
       "      <td>0.016047</td>\n",
       "      <td>Dairy</td>\n",
       "      <td>249.8092</td>\n",
       "      <td>OUT049</td>\n",
       "      <td>1999</td>\n",
       "      <td>Medium</td>\n",
       "      <td>Tier 1</td>\n",
       "      <td>Supermarket Type1</td>\n",
       "      <td>3735.1380</td>\n",
       "    </tr>\n",
       "    <tr>\n",
       "      <th>1</th>\n",
       "      <td>DRC01</td>\n",
       "      <td>5.92</td>\n",
       "      <td>Regular</td>\n",
       "      <td>0.019278</td>\n",
       "      <td>Soft Drinks</td>\n",
       "      <td>48.2692</td>\n",
       "      <td>OUT018</td>\n",
       "      <td>2009</td>\n",
       "      <td>Medium</td>\n",
       "      <td>Tier 3</td>\n",
       "      <td>Supermarket Type2</td>\n",
       "      <td>443.4228</td>\n",
       "    </tr>\n",
       "    <tr>\n",
       "      <th>2</th>\n",
       "      <td>FDN15</td>\n",
       "      <td>17.50</td>\n",
       "      <td>Low Fat</td>\n",
       "      <td>0.016760</td>\n",
       "      <td>Meat</td>\n",
       "      <td>141.6180</td>\n",
       "      <td>OUT049</td>\n",
       "      <td>1999</td>\n",
       "      <td>Medium</td>\n",
       "      <td>Tier 1</td>\n",
       "      <td>Supermarket Type1</td>\n",
       "      <td>2097.2700</td>\n",
       "    </tr>\n",
       "    <tr>\n",
       "      <th>3</th>\n",
       "      <td>FDX07</td>\n",
       "      <td>19.20</td>\n",
       "      <td>Regular</td>\n",
       "      <td>0.000000</td>\n",
       "      <td>Fruits and Vegetables</td>\n",
       "      <td>182.0950</td>\n",
       "      <td>OUT010</td>\n",
       "      <td>1998</td>\n",
       "      <td>NaN</td>\n",
       "      <td>Tier 3</td>\n",
       "      <td>Grocery Store</td>\n",
       "      <td>732.3800</td>\n",
       "    </tr>\n",
       "    <tr>\n",
       "      <th>4</th>\n",
       "      <td>NCD19</td>\n",
       "      <td>8.93</td>\n",
       "      <td>Low Fat</td>\n",
       "      <td>0.000000</td>\n",
       "      <td>Household</td>\n",
       "      <td>53.8614</td>\n",
       "      <td>OUT013</td>\n",
       "      <td>1987</td>\n",
       "      <td>High</td>\n",
       "      <td>Tier 3</td>\n",
       "      <td>Supermarket Type1</td>\n",
       "      <td>994.7052</td>\n",
       "    </tr>\n",
       "  </tbody>\n",
       "</table>\n",
       "</div>"
      ],
      "text/plain": [
       "  Item_Identifier  Item_Weight Item_Fat_Content  Item_Visibility  \\\n",
       "0           FDA15         9.30          Low Fat         0.016047   \n",
       "1           DRC01         5.92          Regular         0.019278   \n",
       "2           FDN15        17.50          Low Fat         0.016760   \n",
       "3           FDX07        19.20          Regular         0.000000   \n",
       "4           NCD19         8.93          Low Fat         0.000000   \n",
       "\n",
       "               Item_Type  Item_MRP Outlet_Identifier  \\\n",
       "0                  Dairy  249.8092            OUT049   \n",
       "1            Soft Drinks   48.2692            OUT018   \n",
       "2                   Meat  141.6180            OUT049   \n",
       "3  Fruits and Vegetables  182.0950            OUT010   \n",
       "4              Household   53.8614            OUT013   \n",
       "\n",
       "   Outlet_Establishment_Year Outlet_Size Outlet_Location_Type  \\\n",
       "0                       1999      Medium               Tier 1   \n",
       "1                       2009      Medium               Tier 3   \n",
       "2                       1999      Medium               Tier 1   \n",
       "3                       1998         NaN               Tier 3   \n",
       "4                       1987        High               Tier 3   \n",
       "\n",
       "         Outlet_Type  Item_Outlet_Sales  \n",
       "0  Supermarket Type1          3735.1380  \n",
       "1  Supermarket Type2           443.4228  \n",
       "2  Supermarket Type1          2097.2700  \n",
       "3      Grocery Store           732.3800  \n",
       "4  Supermarket Type1           994.7052  "
      ]
     },
     "execution_count": 2,
     "metadata": {},
     "output_type": "execute_result"
    }
   ],
   "source": [
    "df_train = pd.read_csv('Train.csv')\n",
    "df_train.head()"
   ]
  },
  {
   "cell_type": "code",
   "execution_count": 3,
   "id": "1fb2eba4",
   "metadata": {
    "ExecuteTime": {
     "end_time": "2021-09-29T16:00:12.363041Z",
     "start_time": "2021-09-29T16:00:12.213961Z"
    }
   },
   "outputs": [
    {
     "data": {
      "text/html": [
       "<div>\n",
       "<style scoped>\n",
       "    .dataframe tbody tr th:only-of-type {\n",
       "        vertical-align: middle;\n",
       "    }\n",
       "\n",
       "    .dataframe tbody tr th {\n",
       "        vertical-align: top;\n",
       "    }\n",
       "\n",
       "    .dataframe thead th {\n",
       "        text-align: right;\n",
       "    }\n",
       "</style>\n",
       "<table border=\"1\" class=\"dataframe\">\n",
       "  <thead>\n",
       "    <tr style=\"text-align: right;\">\n",
       "      <th></th>\n",
       "      <th>Item_Identifier</th>\n",
       "      <th>Item_Weight</th>\n",
       "      <th>Item_Fat_Content</th>\n",
       "      <th>Item_Visibility</th>\n",
       "      <th>Item_Type</th>\n",
       "      <th>Item_MRP</th>\n",
       "      <th>Outlet_Identifier</th>\n",
       "      <th>Outlet_Establishment_Year</th>\n",
       "      <th>Outlet_Size</th>\n",
       "      <th>Outlet_Location_Type</th>\n",
       "      <th>Outlet_Type</th>\n",
       "    </tr>\n",
       "  </thead>\n",
       "  <tbody>\n",
       "    <tr>\n",
       "      <th>0</th>\n",
       "      <td>FDW58</td>\n",
       "      <td>20.750</td>\n",
       "      <td>Low Fat</td>\n",
       "      <td>0.007565</td>\n",
       "      <td>Snack Foods</td>\n",
       "      <td>107.8622</td>\n",
       "      <td>OUT049</td>\n",
       "      <td>1999</td>\n",
       "      <td>Medium</td>\n",
       "      <td>Tier 1</td>\n",
       "      <td>Supermarket Type1</td>\n",
       "    </tr>\n",
       "    <tr>\n",
       "      <th>1</th>\n",
       "      <td>FDW14</td>\n",
       "      <td>8.300</td>\n",
       "      <td>reg</td>\n",
       "      <td>0.038428</td>\n",
       "      <td>Dairy</td>\n",
       "      <td>87.3198</td>\n",
       "      <td>OUT017</td>\n",
       "      <td>2007</td>\n",
       "      <td>NaN</td>\n",
       "      <td>Tier 2</td>\n",
       "      <td>Supermarket Type1</td>\n",
       "    </tr>\n",
       "    <tr>\n",
       "      <th>2</th>\n",
       "      <td>NCN55</td>\n",
       "      <td>14.600</td>\n",
       "      <td>Low Fat</td>\n",
       "      <td>0.099575</td>\n",
       "      <td>Others</td>\n",
       "      <td>241.7538</td>\n",
       "      <td>OUT010</td>\n",
       "      <td>1998</td>\n",
       "      <td>NaN</td>\n",
       "      <td>Tier 3</td>\n",
       "      <td>Grocery Store</td>\n",
       "    </tr>\n",
       "    <tr>\n",
       "      <th>3</th>\n",
       "      <td>FDQ58</td>\n",
       "      <td>7.315</td>\n",
       "      <td>Low Fat</td>\n",
       "      <td>0.015388</td>\n",
       "      <td>Snack Foods</td>\n",
       "      <td>155.0340</td>\n",
       "      <td>OUT017</td>\n",
       "      <td>2007</td>\n",
       "      <td>NaN</td>\n",
       "      <td>Tier 2</td>\n",
       "      <td>Supermarket Type1</td>\n",
       "    </tr>\n",
       "    <tr>\n",
       "      <th>4</th>\n",
       "      <td>FDY38</td>\n",
       "      <td>NaN</td>\n",
       "      <td>Regular</td>\n",
       "      <td>0.118599</td>\n",
       "      <td>Dairy</td>\n",
       "      <td>234.2300</td>\n",
       "      <td>OUT027</td>\n",
       "      <td>1985</td>\n",
       "      <td>Medium</td>\n",
       "      <td>Tier 3</td>\n",
       "      <td>Supermarket Type3</td>\n",
       "    </tr>\n",
       "  </tbody>\n",
       "</table>\n",
       "</div>"
      ],
      "text/plain": [
       "  Item_Identifier  Item_Weight Item_Fat_Content  Item_Visibility    Item_Type  \\\n",
       "0           FDW58       20.750          Low Fat         0.007565  Snack Foods   \n",
       "1           FDW14        8.300              reg         0.038428        Dairy   \n",
       "2           NCN55       14.600          Low Fat         0.099575       Others   \n",
       "3           FDQ58        7.315          Low Fat         0.015388  Snack Foods   \n",
       "4           FDY38          NaN          Regular         0.118599        Dairy   \n",
       "\n",
       "   Item_MRP Outlet_Identifier  Outlet_Establishment_Year Outlet_Size  \\\n",
       "0  107.8622            OUT049                       1999      Medium   \n",
       "1   87.3198            OUT017                       2007         NaN   \n",
       "2  241.7538            OUT010                       1998         NaN   \n",
       "3  155.0340            OUT017                       2007         NaN   \n",
       "4  234.2300            OUT027                       1985      Medium   \n",
       "\n",
       "  Outlet_Location_Type        Outlet_Type  \n",
       "0               Tier 1  Supermarket Type1  \n",
       "1               Tier 2  Supermarket Type1  \n",
       "2               Tier 3      Grocery Store  \n",
       "3               Tier 2  Supermarket Type1  \n",
       "4               Tier 3  Supermarket Type3  "
      ]
     },
     "execution_count": 3,
     "metadata": {},
     "output_type": "execute_result"
    }
   ],
   "source": [
    "df_test = pd.read_csv('Test.csv')\n",
    "df_test.head()"
   ]
  },
  {
   "cell_type": "markdown",
   "id": "a4549b54",
   "metadata": {},
   "source": [
    "# Data Observation"
   ]
  },
  {
   "cell_type": "code",
   "execution_count": 4,
   "id": "954e4b6c",
   "metadata": {
    "ExecuteTime": {
     "end_time": "2021-09-29T16:00:16.164130Z",
     "start_time": "2021-09-29T16:00:16.116123Z"
    }
   },
   "outputs": [
    {
     "name": "stdout",
     "output_type": "stream",
     "text": [
      "<class 'pandas.core.frame.DataFrame'>\n",
      "RangeIndex: 8523 entries, 0 to 8522\n",
      "Data columns (total 12 columns):\n",
      " #   Column                     Non-Null Count  Dtype  \n",
      "---  ------                     --------------  -----  \n",
      " 0   Item_Identifier            8523 non-null   object \n",
      " 1   Item_Weight                7060 non-null   float64\n",
      " 2   Item_Fat_Content           8523 non-null   object \n",
      " 3   Item_Visibility            8523 non-null   float64\n",
      " 4   Item_Type                  8523 non-null   object \n",
      " 5   Item_MRP                   8523 non-null   float64\n",
      " 6   Outlet_Identifier          8523 non-null   object \n",
      " 7   Outlet_Establishment_Year  8523 non-null   int64  \n",
      " 8   Outlet_Size                6113 non-null   object \n",
      " 9   Outlet_Location_Type       8523 non-null   object \n",
      " 10  Outlet_Type                8523 non-null   object \n",
      " 11  Item_Outlet_Sales          8523 non-null   float64\n",
      "dtypes: float64(4), int64(1), object(7)\n",
      "memory usage: 799.2+ KB\n"
     ]
    }
   ],
   "source": [
    "df_train.info()"
   ]
  },
  {
   "cell_type": "markdown",
   "id": "dac3b16f",
   "metadata": {},
   "source": [
    "## Check Null Values :"
   ]
  },
  {
   "cell_type": "code",
   "execution_count": 7,
   "id": "8c8a0864",
   "metadata": {
    "ExecuteTime": {
     "end_time": "2021-09-29T16:00:18.726559Z",
     "start_time": "2021-09-29T16:00:18.703075Z"
    }
   },
   "outputs": [
    {
     "data": {
      "text/plain": [
       "Item_Identifier                 0\n",
       "Item_Weight                  1463\n",
       "Item_Fat_Content                0\n",
       "Item_Visibility                 0\n",
       "Item_Type                       0\n",
       "Item_MRP                        0\n",
       "Outlet_Identifier               0\n",
       "Outlet_Establishment_Year       0\n",
       "Outlet_Size                  2410\n",
       "Outlet_Location_Type            0\n",
       "Outlet_Type                     0\n",
       "Item_Outlet_Sales               0\n",
       "dtype: int64"
      ]
     },
     "execution_count": 7,
     "metadata": {},
     "output_type": "execute_result"
    }
   ],
   "source": [
    "df_train.isnull().sum()"
   ]
  },
  {
   "cell_type": "code",
   "execution_count": 8,
   "id": "2838f4d4",
   "metadata": {
    "ExecuteTime": {
     "end_time": "2021-09-29T16:00:20.759273Z",
     "start_time": "2021-09-29T16:00:20.651746Z"
    }
   },
   "outputs": [
    {
     "data": {
      "text/plain": [
       "Item_Identifier               0.000000\n",
       "Item_Weight                  17.165317\n",
       "Item_Fat_Content              0.000000\n",
       "Item_Visibility               0.000000\n",
       "Item_Type                     0.000000\n",
       "Item_MRP                      0.000000\n",
       "Outlet_Identifier             0.000000\n",
       "Outlet_Establishment_Year     0.000000\n",
       "Outlet_Size                  28.276428\n",
       "Outlet_Location_Type          0.000000\n",
       "Outlet_Type                   0.000000\n",
       "Item_Outlet_Sales             0.000000\n",
       "dtype: float64"
      ]
     },
     "execution_count": 8,
     "metadata": {},
     "output_type": "execute_result"
    }
   ],
   "source": [
    "df_train.isnull().sum()/len(df_train)*100"
   ]
  },
  {
   "cell_type": "markdown",
   "id": "66fe0c55",
   "metadata": {},
   "source": [
    "## Null Values Imputation"
   ]
  },
  {
   "cell_type": "code",
   "execution_count": 9,
   "id": "c1e65fc8",
   "metadata": {
    "ExecuteTime": {
     "end_time": "2021-09-27T11:14:37.776962Z",
     "start_time": "2021-09-27T11:14:37.750940Z"
    }
   },
   "outputs": [],
   "source": [
    "df_train['Outlet_Size'] = df_train['Outlet_Size'].fillna(df_train['Outlet_Size'].mode()[0])\n",
    "df_test['Outlet_Size'] = df_test['Outlet_Size'].fillna(df_test['Outlet_Size'].mode()[0])"
   ]
  },
  {
   "cell_type": "code",
   "execution_count": 10,
   "id": "41849736",
   "metadata": {
    "ExecuteTime": {
     "end_time": "2021-09-27T11:14:37.808956Z",
     "start_time": "2021-09-27T11:14:37.779973Z"
    }
   },
   "outputs": [],
   "source": [
    "df_train['Item_Weight'] = df_train['Item_Weight'].fillna(df_train['Item_Weight'].median())\n",
    "df_test['Item_Weight'] = df_test['Item_Weight'].fillna(df_test['Item_Weight'].median())"
   ]
  },
  {
   "cell_type": "code",
   "execution_count": 11,
   "id": "8dce4911",
   "metadata": {
    "ExecuteTime": {
     "end_time": "2021-09-27T11:14:37.840948Z",
     "start_time": "2021-09-27T11:14:37.812945Z"
    }
   },
   "outputs": [
    {
     "data": {
      "text/plain": [
       "Item_Identifier              0\n",
       "Item_Weight                  0\n",
       "Item_Fat_Content             0\n",
       "Item_Visibility              0\n",
       "Item_Type                    0\n",
       "Item_MRP                     0\n",
       "Outlet_Identifier            0\n",
       "Outlet_Establishment_Year    0\n",
       "Outlet_Size                  0\n",
       "Outlet_Location_Type         0\n",
       "Outlet_Type                  0\n",
       "Item_Outlet_Sales            0\n",
       "dtype: int64"
      ]
     },
     "execution_count": 11,
     "metadata": {},
     "output_type": "execute_result"
    }
   ],
   "source": [
    "df_train.isnull().sum()"
   ]
  },
  {
   "cell_type": "markdown",
   "id": "9f0e467c",
   "metadata": {},
   "source": [
    "## Data Description"
   ]
  },
  {
   "cell_type": "code",
   "execution_count": 12,
   "id": "34db347c",
   "metadata": {
    "ExecuteTime": {
     "end_time": "2021-09-27T11:14:37.918970Z",
     "start_time": "2021-09-27T11:14:37.845947Z"
    }
   },
   "outputs": [
    {
     "data": {
      "text/html": [
       "<div>\n",
       "<style scoped>\n",
       "    .dataframe tbody tr th:only-of-type {\n",
       "        vertical-align: middle;\n",
       "    }\n",
       "\n",
       "    .dataframe tbody tr th {\n",
       "        vertical-align: top;\n",
       "    }\n",
       "\n",
       "    .dataframe thead th {\n",
       "        text-align: right;\n",
       "    }\n",
       "</style>\n",
       "<table border=\"1\" class=\"dataframe\">\n",
       "  <thead>\n",
       "    <tr style=\"text-align: right;\">\n",
       "      <th></th>\n",
       "      <th>count</th>\n",
       "      <th>mean</th>\n",
       "      <th>std</th>\n",
       "      <th>min</th>\n",
       "      <th>25%</th>\n",
       "      <th>50%</th>\n",
       "      <th>75%</th>\n",
       "      <th>max</th>\n",
       "    </tr>\n",
       "  </thead>\n",
       "  <tbody>\n",
       "    <tr>\n",
       "      <th>Item_Weight</th>\n",
       "      <td>8523.0</td>\n",
       "      <td>12.813420</td>\n",
       "      <td>4.227240</td>\n",
       "      <td>4.555</td>\n",
       "      <td>9.310000</td>\n",
       "      <td>12.600000</td>\n",
       "      <td>16.000000</td>\n",
       "      <td>21.350000</td>\n",
       "    </tr>\n",
       "    <tr>\n",
       "      <th>Item_Visibility</th>\n",
       "      <td>8523.0</td>\n",
       "      <td>0.066132</td>\n",
       "      <td>0.051598</td>\n",
       "      <td>0.000</td>\n",
       "      <td>0.026989</td>\n",
       "      <td>0.053931</td>\n",
       "      <td>0.094585</td>\n",
       "      <td>0.328391</td>\n",
       "    </tr>\n",
       "    <tr>\n",
       "      <th>Item_MRP</th>\n",
       "      <td>8523.0</td>\n",
       "      <td>140.992782</td>\n",
       "      <td>62.275067</td>\n",
       "      <td>31.290</td>\n",
       "      <td>93.826500</td>\n",
       "      <td>143.012800</td>\n",
       "      <td>185.643700</td>\n",
       "      <td>266.888400</td>\n",
       "    </tr>\n",
       "    <tr>\n",
       "      <th>Outlet_Establishment_Year</th>\n",
       "      <td>8523.0</td>\n",
       "      <td>1997.831867</td>\n",
       "      <td>8.371760</td>\n",
       "      <td>1985.000</td>\n",
       "      <td>1987.000000</td>\n",
       "      <td>1999.000000</td>\n",
       "      <td>2004.000000</td>\n",
       "      <td>2009.000000</td>\n",
       "    </tr>\n",
       "    <tr>\n",
       "      <th>Item_Outlet_Sales</th>\n",
       "      <td>8523.0</td>\n",
       "      <td>2181.288914</td>\n",
       "      <td>1706.499616</td>\n",
       "      <td>33.290</td>\n",
       "      <td>834.247400</td>\n",
       "      <td>1794.331000</td>\n",
       "      <td>3101.296400</td>\n",
       "      <td>13086.964800</td>\n",
       "    </tr>\n",
       "  </tbody>\n",
       "</table>\n",
       "</div>"
      ],
      "text/plain": [
       "                            count         mean          std       min  \\\n",
       "Item_Weight                8523.0    12.813420     4.227240     4.555   \n",
       "Item_Visibility            8523.0     0.066132     0.051598     0.000   \n",
       "Item_MRP                   8523.0   140.992782    62.275067    31.290   \n",
       "Outlet_Establishment_Year  8523.0  1997.831867     8.371760  1985.000   \n",
       "Item_Outlet_Sales          8523.0  2181.288914  1706.499616    33.290   \n",
       "\n",
       "                                   25%          50%          75%           max  \n",
       "Item_Weight                   9.310000    12.600000    16.000000     21.350000  \n",
       "Item_Visibility               0.026989     0.053931     0.094585      0.328391  \n",
       "Item_MRP                     93.826500   143.012800   185.643700    266.888400  \n",
       "Outlet_Establishment_Year  1987.000000  1999.000000  2004.000000   2009.000000  \n",
       "Item_Outlet_Sales           834.247400  1794.331000  3101.296400  13086.964800  "
      ]
     },
     "execution_count": 12,
     "metadata": {},
     "output_type": "execute_result"
    }
   ],
   "source": [
    "df_train.describe().T"
   ]
  },
  {
   "cell_type": "code",
   "execution_count": 13,
   "id": "003be04c",
   "metadata": {
    "ExecuteTime": {
     "end_time": "2021-09-27T11:14:38.012956Z",
     "start_time": "2021-09-27T11:14:37.923959Z"
    }
   },
   "outputs": [
    {
     "data": {
      "text/html": [
       "<div>\n",
       "<style scoped>\n",
       "    .dataframe tbody tr th:only-of-type {\n",
       "        vertical-align: middle;\n",
       "    }\n",
       "\n",
       "    .dataframe tbody tr th {\n",
       "        vertical-align: top;\n",
       "    }\n",
       "\n",
       "    .dataframe thead th {\n",
       "        text-align: right;\n",
       "    }\n",
       "</style>\n",
       "<table border=\"1\" class=\"dataframe\">\n",
       "  <thead>\n",
       "    <tr style=\"text-align: right;\">\n",
       "      <th></th>\n",
       "      <th>count</th>\n",
       "      <th>unique</th>\n",
       "      <th>top</th>\n",
       "      <th>freq</th>\n",
       "    </tr>\n",
       "  </thead>\n",
       "  <tbody>\n",
       "    <tr>\n",
       "      <th>Item_Identifier</th>\n",
       "      <td>8523</td>\n",
       "      <td>1559</td>\n",
       "      <td>FDW13</td>\n",
       "      <td>10</td>\n",
       "    </tr>\n",
       "    <tr>\n",
       "      <th>Item_Fat_Content</th>\n",
       "      <td>8523</td>\n",
       "      <td>5</td>\n",
       "      <td>Low Fat</td>\n",
       "      <td>5089</td>\n",
       "    </tr>\n",
       "    <tr>\n",
       "      <th>Item_Type</th>\n",
       "      <td>8523</td>\n",
       "      <td>16</td>\n",
       "      <td>Fruits and Vegetables</td>\n",
       "      <td>1232</td>\n",
       "    </tr>\n",
       "    <tr>\n",
       "      <th>Outlet_Identifier</th>\n",
       "      <td>8523</td>\n",
       "      <td>10</td>\n",
       "      <td>OUT027</td>\n",
       "      <td>935</td>\n",
       "    </tr>\n",
       "    <tr>\n",
       "      <th>Outlet_Size</th>\n",
       "      <td>8523</td>\n",
       "      <td>3</td>\n",
       "      <td>Medium</td>\n",
       "      <td>5203</td>\n",
       "    </tr>\n",
       "    <tr>\n",
       "      <th>Outlet_Location_Type</th>\n",
       "      <td>8523</td>\n",
       "      <td>3</td>\n",
       "      <td>Tier 3</td>\n",
       "      <td>3350</td>\n",
       "    </tr>\n",
       "    <tr>\n",
       "      <th>Outlet_Type</th>\n",
       "      <td>8523</td>\n",
       "      <td>4</td>\n",
       "      <td>Supermarket Type1</td>\n",
       "      <td>5577</td>\n",
       "    </tr>\n",
       "  </tbody>\n",
       "</table>\n",
       "</div>"
      ],
      "text/plain": [
       "                     count unique                    top  freq\n",
       "Item_Identifier       8523   1559                  FDW13    10\n",
       "Item_Fat_Content      8523      5                Low Fat  5089\n",
       "Item_Type             8523     16  Fruits and Vegetables  1232\n",
       "Outlet_Identifier     8523     10                 OUT027   935\n",
       "Outlet_Size           8523      3                 Medium  5203\n",
       "Outlet_Location_Type  8523      3                 Tier 3  3350\n",
       "Outlet_Type           8523      4      Supermarket Type1  5577"
      ]
     },
     "execution_count": 13,
     "metadata": {},
     "output_type": "execute_result"
    }
   ],
   "source": [
    "df_train.describe(include='object').T"
   ]
  },
  {
   "cell_type": "code",
   "execution_count": 14,
   "id": "e73a53e2",
   "metadata": {
    "ExecuteTime": {
     "end_time": "2021-09-27T11:14:38.958319Z",
     "start_time": "2021-09-27T11:14:38.016963Z"
    }
   },
   "outputs": [
    {
     "data": {
      "text/plain": [
       "<AxesSubplot:>"
      ]
     },
     "execution_count": 14,
     "metadata": {},
     "output_type": "execute_result"
    },
    {
     "data": {
      "image/png": "[encoded data removed]",
      "text/plain": [
       "<Figure size 936x432 with 2 Axes>"
      ]
     },
     "metadata": {
      "needs_background": "light"
     },
     "output_type": "display_data"
    }
   ],
   "source": [
    "plt.figure(figsize=(13,6))\n",
    "sns.heatmap(df_train.corr(),cmap='coolwarm',annot=True,vmax=1,vmin=-1,linewidths=4)"
   ]
  },
  {
   "cell_type": "markdown",
   "id": "77e7441e",
   "metadata": {},
   "source": [
    "# Data Cleaning"
   ]
  },
  {
   "cell_type": "code",
   "execution_count": 15,
   "id": "176bad4c",
   "metadata": {
    "ExecuteTime": {
     "end_time": "2021-09-27T11:14:38.988334Z",
     "start_time": "2021-09-27T11:14:38.962321Z"
    }
   },
   "outputs": [],
   "source": [
    "df_train['Item_Fat_Content'].replace(['low fat','LF','reg'],['Low Fat','Low Fat','Regular'],inplace = True)"
   ]
  },
  {
   "cell_type": "code",
   "execution_count": 16,
   "id": "1f6a04a3",
   "metadata": {
    "ExecuteTime": {
     "end_time": "2021-09-27T11:14:39.019323Z",
     "start_time": "2021-09-27T11:14:38.993322Z"
    }
   },
   "outputs": [],
   "source": [
    "df_test['Item_Fat_Content'].replace(['low fat','LF','reg'],['Low Fat','Low Fat','Regular'],inplace = True)"
   ]
  },
  {
   "cell_type": "code",
   "execution_count": 17,
   "id": "e5a000cb",
   "metadata": {
    "ExecuteTime": {
     "end_time": "2021-09-27T11:14:39.049321Z",
     "start_time": "2021-09-27T11:14:39.026328Z"
    }
   },
   "outputs": [
    {
     "data": {
      "text/plain": [
       "Low Fat    5517\n",
       "Regular    3006\n",
       "Name: Item_Fat_Content, dtype: int64"
      ]
     },
     "execution_count": 17,
     "metadata": {},
     "output_type": "execute_result"
    }
   ],
   "source": [
    "df_train['Item_Fat_Content'].value_counts()"
   ]
  },
  {
   "cell_type": "code",
   "execution_count": 18,
   "id": "b7b3271a",
   "metadata": {
    "ExecuteTime": {
     "end_time": "2021-09-27T11:14:39.081325Z",
     "start_time": "2021-09-27T11:14:39.054327Z"
    }
   },
   "outputs": [],
   "source": [
    "df_test['Years_Established'] = df_test['Outlet_Establishment_Year'].apply(lambda x: 2021 - x) \n",
    "df_test = df_test.drop(columns=['Outlet_Establishment_Year'])"
   ]
  },
  {
   "cell_type": "code",
   "execution_count": 19,
   "id": "9c28592e",
   "metadata": {
    "ExecuteTime": {
     "end_time": "2021-09-27T11:14:39.113329Z",
     "start_time": "2021-09-27T11:14:39.085326Z"
    }
   },
   "outputs": [],
   "source": [
    "df_train['Years_Established'] = df_train['Outlet_Establishment_Year'].apply(lambda x: 2021 - x) \n",
    "df_train = df_train.drop(columns=['Outlet_Establishment_Year'])"
   ]
  },
  {
   "cell_type": "code",
   "execution_count": 20,
   "id": "ffcf8f3c",
   "metadata": {
    "ExecuteTime": {
     "end_time": "2021-09-27T11:14:39.160350Z",
     "start_time": "2021-09-27T11:14:39.117330Z"
    }
   },
   "outputs": [
    {
     "data": {
      "text/html": [
       "<div>\n",
       "<style scoped>\n",
       "    .dataframe tbody tr th:only-of-type {\n",
       "        vertical-align: middle;\n",
       "    }\n",
       "\n",
       "    .dataframe tbody tr th {\n",
       "        vertical-align: top;\n",
       "    }\n",
       "\n",
       "    .dataframe thead th {\n",
       "        text-align: right;\n",
       "    }\n",
       "</style>\n",
       "<table border=\"1\" class=\"dataframe\">\n",
       "  <thead>\n",
       "    <tr style=\"text-align: right;\">\n",
       "      <th></th>\n",
       "      <th>Item_Identifier</th>\n",
       "      <th>Item_Weight</th>\n",
       "      <th>Item_Fat_Content</th>\n",
       "      <th>Item_Visibility</th>\n",
       "      <th>Item_Type</th>\n",
       "      <th>Item_MRP</th>\n",
       "      <th>Outlet_Identifier</th>\n",
       "      <th>Outlet_Size</th>\n",
       "      <th>Outlet_Location_Type</th>\n",
       "      <th>Outlet_Type</th>\n",
       "      <th>Item_Outlet_Sales</th>\n",
       "      <th>Years_Established</th>\n",
       "    </tr>\n",
       "  </thead>\n",
       "  <tbody>\n",
       "    <tr>\n",
       "      <th>0</th>\n",
       "      <td>FDA15</td>\n",
       "      <td>9.30</td>\n",
       "      <td>Low Fat</td>\n",
       "      <td>0.016047</td>\n",
       "      <td>Dairy</td>\n",
       "      <td>249.8092</td>\n",
       "      <td>OUT049</td>\n",
       "      <td>Medium</td>\n",
       "      <td>Tier 1</td>\n",
       "      <td>Supermarket Type1</td>\n",
       "      <td>3735.1380</td>\n",
       "      <td>22</td>\n",
       "    </tr>\n",
       "    <tr>\n",
       "      <th>1</th>\n",
       "      <td>DRC01</td>\n",
       "      <td>5.92</td>\n",
       "      <td>Regular</td>\n",
       "      <td>0.019278</td>\n",
       "      <td>Soft Drinks</td>\n",
       "      <td>48.2692</td>\n",
       "      <td>OUT018</td>\n",
       "      <td>Medium</td>\n",
       "      <td>Tier 3</td>\n",
       "      <td>Supermarket Type2</td>\n",
       "      <td>443.4228</td>\n",
       "      <td>12</td>\n",
       "    </tr>\n",
       "    <tr>\n",
       "      <th>2</th>\n",
       "      <td>FDN15</td>\n",
       "      <td>17.50</td>\n",
       "      <td>Low Fat</td>\n",
       "      <td>0.016760</td>\n",
       "      <td>Meat</td>\n",
       "      <td>141.6180</td>\n",
       "      <td>OUT049</td>\n",
       "      <td>Medium</td>\n",
       "      <td>Tier 1</td>\n",
       "      <td>Supermarket Type1</td>\n",
       "      <td>2097.2700</td>\n",
       "      <td>22</td>\n",
       "    </tr>\n",
       "    <tr>\n",
       "      <th>3</th>\n",
       "      <td>FDX07</td>\n",
       "      <td>19.20</td>\n",
       "      <td>Regular</td>\n",
       "      <td>0.000000</td>\n",
       "      <td>Fruits and Vegetables</td>\n",
       "      <td>182.0950</td>\n",
       "      <td>OUT010</td>\n",
       "      <td>Medium</td>\n",
       "      <td>Tier 3</td>\n",
       "      <td>Grocery Store</td>\n",
       "      <td>732.3800</td>\n",
       "      <td>23</td>\n",
       "    </tr>\n",
       "    <tr>\n",
       "      <th>4</th>\n",
       "      <td>NCD19</td>\n",
       "      <td>8.93</td>\n",
       "      <td>Low Fat</td>\n",
       "      <td>0.000000</td>\n",
       "      <td>Household</td>\n",
       "      <td>53.8614</td>\n",
       "      <td>OUT013</td>\n",
       "      <td>High</td>\n",
       "      <td>Tier 3</td>\n",
       "      <td>Supermarket Type1</td>\n",
       "      <td>994.7052</td>\n",
       "      <td>34</td>\n",
       "    </tr>\n",
       "  </tbody>\n",
       "</table>\n",
       "</div>"
      ],
      "text/plain": [
       "  Item_Identifier  Item_Weight Item_Fat_Content  Item_Visibility  \\\n",
       "0           FDA15         9.30          Low Fat         0.016047   \n",
       "1           DRC01         5.92          Regular         0.019278   \n",
       "2           FDN15        17.50          Low Fat         0.016760   \n",
       "3           FDX07        19.20          Regular         0.000000   \n",
       "4           NCD19         8.93          Low Fat         0.000000   \n",
       "\n",
       "               Item_Type  Item_MRP Outlet_Identifier Outlet_Size  \\\n",
       "0                  Dairy  249.8092            OUT049      Medium   \n",
       "1            Soft Drinks   48.2692            OUT018      Medium   \n",
       "2                   Meat  141.6180            OUT049      Medium   \n",
       "3  Fruits and Vegetables  182.0950            OUT010      Medium   \n",
       "4              Household   53.8614            OUT013        High   \n",
       "\n",
       "  Outlet_Location_Type        Outlet_Type  Item_Outlet_Sales  \\\n",
       "0               Tier 1  Supermarket Type1          3735.1380   \n",
       "1               Tier 3  Supermarket Type2           443.4228   \n",
       "2               Tier 1  Supermarket Type1          2097.2700   \n",
       "3               Tier 3      Grocery Store           732.3800   \n",
       "4               Tier 3  Supermarket Type1           994.7052   \n",
       "\n",
       "   Years_Established  \n",
       "0                 22  \n",
       "1                 12  \n",
       "2                 22  \n",
       "3                 23  \n",
       "4                 34  "
      ]
     },
     "execution_count": 20,
     "metadata": {},
     "output_type": "execute_result"
    }
   ],
   "source": [
    "df_train.head()"
   ]
  },
  {
   "cell_type": "markdown",
   "id": "8260d629",
   "metadata": {},
   "source": [
    "### Drop unnecessary Features"
   ]
  },
  {
   "cell_type": "code",
   "execution_count": 21,
   "id": "9fe39226",
   "metadata": {
    "ExecuteTime": {
     "end_time": "2021-09-27T11:14:39.190341Z",
     "start_time": "2021-09-27T11:14:39.163331Z"
    }
   },
   "outputs": [],
   "source": [
    "df_train.drop(['Item_Identifier'],axis=1,inplace=True)\n",
    "df_test.drop(['Item_Identifier'],axis=1,inplace=True)"
   ]
  },
  {
   "cell_type": "code",
   "execution_count": 22,
   "id": "83b127a1",
   "metadata": {
    "ExecuteTime": {
     "end_time": "2021-09-27T11:14:39.220340Z",
     "start_time": "2021-09-27T11:14:39.195335Z"
    }
   },
   "outputs": [],
   "source": [
    "df_train.drop(['Outlet_Identifier'],axis=1,inplace=True)\n",
    "df_test.drop(['Outlet_Identifier'],axis=1,inplace=True)"
   ]
  },
  {
   "cell_type": "markdown",
   "id": "d32bf1e6",
   "metadata": {
    "ExecuteTime": {
     "end_time": "2021-09-06T15:49:00.367871Z",
     "start_time": "2021-09-06T15:49:00.312740Z"
    }
   },
   "source": [
    "# Scaling And Encoding "
   ]
  },
  {
   "cell_type": "markdown",
   "id": "1210dc3e",
   "metadata": {},
   "source": [
    "## --> For Training :"
   ]
  },
  {
   "cell_type": "code",
   "execution_count": 23,
   "id": "2e80b164",
   "metadata": {
    "ExecuteTime": {
     "end_time": "2021-09-27T11:14:39.268340Z",
     "start_time": "2021-09-27T11:14:39.228343Z"
    }
   },
   "outputs": [],
   "source": [
    "lr = LabelEncoder()\n",
    "df_train['Item_Fat_Content'] = lr.fit_transform(pd.DataFrame(df_train['Item_Fat_Content']))\n",
    "\n",
    "df_train['Item_Type'] = lr.fit_transform(pd.DataFrame(df_train['Item_Type']))\n",
    "\n",
    "df_train['Outlet_Size'] = lr.fit_transform(pd.DataFrame(df_train['Outlet_Size']))\n",
    "df_train['Outlet_Location_Type'] = lr.fit_transform(pd.DataFrame(df_train['Outlet_Location_Type']))"
   ]
  },
  {
   "cell_type": "code",
   "execution_count": 24,
   "id": "251ee063",
   "metadata": {
    "ExecuteTime": {
     "end_time": "2021-09-27T11:14:39.300341Z",
     "start_time": "2021-09-27T11:14:39.272347Z"
    }
   },
   "outputs": [],
   "source": [
    "df_train = pd.get_dummies(df_train,drop_first=True)"
   ]
  },
  {
   "cell_type": "markdown",
   "id": "6a647406",
   "metadata": {},
   "source": [
    "## --> For Training :"
   ]
  },
  {
   "cell_type": "code",
   "execution_count": 25,
   "id": "162d9d46",
   "metadata": {
    "ExecuteTime": {
     "end_time": "2021-09-27T11:14:39.348345Z",
     "start_time": "2021-09-27T11:14:39.305346Z"
    }
   },
   "outputs": [],
   "source": [
    "df_test['Item_Fat_Content'] = lr.fit_transform(pd.DataFrame(df_test['Item_Fat_Content']))\n",
    "\n",
    "df_test['Item_Type'] = lr.fit_transform(pd.DataFrame(df_test['Item_Type']))\n",
    "\n",
    "df_test['Outlet_Size'] = lr.fit_transform(pd.DataFrame(df_test['Outlet_Size']))\n",
    "df_test['Outlet_Location_Type'] = lr.fit_transform(pd.DataFrame(df_test['Outlet_Location_Type']))"
   ]
  },
  {
   "cell_type": "code",
   "execution_count": 26,
   "id": "6197e04d",
   "metadata": {
    "ExecuteTime": {
     "end_time": "2021-09-27T11:14:39.380349Z",
     "start_time": "2021-09-27T11:14:39.352346Z"
    }
   },
   "outputs": [],
   "source": [
    "df_test = pd.get_dummies(df_test,drop_first=True)"
   ]
  },
  {
   "cell_type": "markdown",
   "id": "b5710c30",
   "metadata": {},
   "source": [
    "#### Dividing In to X and y :"
   ]
  },
  {
   "cell_type": "code",
   "execution_count": 27,
   "id": "d2413f0c",
   "metadata": {
    "ExecuteTime": {
     "end_time": "2021-09-27T11:14:39.412363Z",
     "start_time": "2021-09-27T11:14:39.386352Z"
    }
   },
   "outputs": [],
   "source": [
    "X = df_train.drop(('Item_Outlet_Sales'),axis=1)\n",
    "y = df_train.Item_Outlet_Sales"
   ]
  },
  {
   "cell_type": "markdown",
   "id": "a89ac20f",
   "metadata": {},
   "source": [
    "# Models :-"
   ]
  },
  {
   "cell_type": "markdown",
   "id": "be8bba5a-8f27-47bc-aba1-899485d385a1",
   "metadata": {},
   "source": [
    "## Function For models:"
   ]
  },
  {
   "cell_type": "code",
   "execution_count": 81,
   "id": "621ef5aa-4500-49f6-a899-cf1ee5ec4ac0",
   "metadata": {},
   "outputs": [],
   "source": [
    "from sklearn.model_selection import cross_val_score\n",
    "#from sklearn.metrics import neg_mean_squared_error\n",
    "import statistics\n",
    "from statistics import mean\n",
    "def train(model,X,y):\n",
    "    #train_the_model\n",
    "    model.fit(X,y)\n",
    "    \n",
    "    #predict the model\n",
    "    pred = model.predict(X)\n",
    "    \n",
    "    #peform Cross_validation\n",
    "    cv_score = cross_val_score(model,X,y,scoring='neg_mean_squared_error',cv=10)\n",
    "    #sklearn.metrics.SCORERS.keys() to see Scoring methods\n",
    "    m_cv_score = np.abs(np.mean(cv_score))\n",
    "    \n",
    "    print(\"----------Model Report----------\")\n",
    "    print('MSE: ',mean_squared_error(y,pred))\n",
    "    print('cv_Score: ',cv_score)\n",
    "    #Mean of Cv_Score to get Avg Value\n",
    "    print('Mean Cv_Score: ',m_cv_score)"
   ]
  },
  {
   "cell_type": "markdown",
   "id": "a6df2bfb-5631-4753-aabb-a97d58b341fb",
   "metadata": {},
   "source": [
    "## Linear Regression :"
   ]
  },
  {
   "cell_type": "code",
   "execution_count": 100,
   "id": "9a86b4bc-fd73-4df2-88c7-366991a7af82",
   "metadata": {},
   "outputs": [
    {
     "name": "stdout",
     "output_type": "stream",
     "text": [
      "----------Model Report----------\n",
      "MSE:  1274125.4329108146\n",
      "cv_Score:  [-1357444.13020693 -1299940.40526445 -1259822.17507953 -1240168.12461972\n",
      " -1254095.43913786 -1230003.5157031  -1245600.16578822 -1296156.9679278\n",
      " -1289505.93134302 -1313743.00036238]\n",
      "Mean Cv_Score:  1278647.9855433009\n"
     ]
    },
    {
     "data": {
      "image/png": "[encoded data removed]",
      "text/plain": [
       "<Figure size 432x288 with 1 Axes>"
      ]
     },
     "metadata": {
      "needs_background": "light"
     },
     "output_type": "display_data"
    }
   ],
   "source": [
    "from sklearn.linear_model import LinearRegression,Ridge,Lasso\n",
    "model = LinearRegression(normalize=True)\n",
    "train(model,X,y)\n",
    "coef = pd.Series(model.coef_,X.columns).sort_values(ascending=False)\n",
    "coef.plot(kind='bar',title='model Coefficients')\n",
    "\n",
    "# save the model to disk\n",
    "filename = 'LinearRegression.sav'\n",
    "pickle.dump(model, open(filename, 'wb'))"
   ]
  },
  {
   "cell_type": "markdown",
   "id": "a800482c-96af-4430-806f-3991cee855d9",
   "metadata": {
    "tags": []
   },
   "source": [
    "## Lasso"
   ]
  },
  {
   "cell_type": "code",
   "execution_count": 99,
   "id": "456dde44-1f57-4d23-bf72-676af9b04cb1",
   "metadata": {},
   "outputs": [
    {
     "name": "stdout",
     "output_type": "stream",
     "text": [
      "----------Model Report----------\n",
      "MSE:  1382677.699753695\n",
      "cv_Score:  [-1449507.84741985 -1410721.98878492 -1347514.02931794 -1318830.90071492\n",
      " -1297048.96962419 -1315694.37938658 -1352033.306501   -1422599.61567409\n",
      " -1394337.65923417 -1433302.06879342]\n",
      "Mean Cv_Score:  1374159.076545109\n"
     ]
    },
    {
     "data": {
      "image/png": "[encoded data removed]",
      "text/plain": [
       "<Figure size 432x288 with 1 Axes>"
      ]
     },
     "metadata": {
      "needs_background": "light"
     },
     "output_type": "display_data"
    }
   ],
   "source": [
    "from sklearn.linear_model import LinearRegression,Ridge,Lasso\n",
    "model = Lasso(normalize=True)\n",
    "train(model,X,y)\n",
    "coef = pd.Series(model.coef_,X.columns).sort_values(ascending=False)\n",
    "coef.plot(kind='bar',title='model Coefficients')\n",
    "\n",
    "# save the model to disk\n",
    "filename = 'Lasso.sav'\n",
    "pickle.dump(model, open(filename, 'wb'))"
   ]
  },
  {
   "cell_type": "markdown",
   "id": "e447714e-10e2-41d4-bb5b-8e89f6bddfb2",
   "metadata": {},
   "source": [
    "## Ridge"
   ]
  },
  {
   "cell_type": "code",
   "execution_count": 97,
   "id": "d8955a82-4d55-4b71-86f8-dddd426c232a",
   "metadata": {},
   "outputs": [
    {
     "name": "stdout",
     "output_type": "stream",
     "text": [
      "----------Model Report----------\n",
      "MSE:  1855565.5208289998\n",
      "cv_Score:  [-1988167.67161808 -1958408.4683583  -1802350.87411015 -1796035.76452059\n",
      " -1627699.44368529 -1822547.70320967 -1841051.25898927 -1919607.52634217\n",
      " -1934153.34443771 -1890573.27824622]\n",
      "Mean Cv_Score:  1858059.5333517424\n"
     ]
    },
    {
     "data": {
      "image/png": "[encoded data removed]",
      "text/plain": [
       "<Figure size 432x288 with 1 Axes>"
      ]
     },
     "metadata": {
      "needs_background": "light"
     },
     "output_type": "display_data"
    }
   ],
   "source": [
    "from sklearn.linear_model import LinearRegression,Ridge,Lasso\n",
    "model = Ridge(normalize=True)\n",
    "train(model,X,y)\n",
    "coef = pd.Series(model.coef_,X.columns).sort_values(ascending=False)\n",
    "coef.plot(kind='bar',title='model Coefficients')\n",
    "# save the model to disk\n",
    "filename = 'Ridge.sav'\n",
    "pickle.dump(model, open(filename, 'wb'))"
   ]
  },
  {
   "cell_type": "markdown",
   "id": "07eeda70",
   "metadata": {},
   "source": [
    "##### Checking Vif For Variables..."
   ]
  },
  {
   "cell_type": "code",
   "execution_count": 29,
   "id": "6e9019f0",
   "metadata": {
    "ExecuteTime": {
     "end_time": "2021-09-27T11:14:39.680510Z",
     "start_time": "2021-09-27T11:14:39.525357Z"
    },
    "scrolled": true
   },
   "outputs": [
    {
     "data": {
      "text/html": [
       "<div>\n",
       "<style scoped>\n",
       "    .dataframe tbody tr th:only-of-type {\n",
       "        vertical-align: middle;\n",
       "    }\n",
       "\n",
       "    .dataframe tbody tr th {\n",
       "        vertical-align: top;\n",
       "    }\n",
       "\n",
       "    .dataframe thead th {\n",
       "        text-align: right;\n",
       "    }\n",
       "</style>\n",
       "<table border=\"1\" class=\"dataframe\">\n",
       "  <thead>\n",
       "    <tr style=\"text-align: right;\">\n",
       "      <th></th>\n",
       "      <th>Ind_Features</th>\n",
       "      <th>vif_scores</th>\n",
       "    </tr>\n",
       "  </thead>\n",
       "  <tbody>\n",
       "    <tr>\n",
       "      <th>0</th>\n",
       "      <td>Item_Weight</td>\n",
       "      <td>9.482084</td>\n",
       "    </tr>\n",
       "    <tr>\n",
       "      <th>1</th>\n",
       "      <td>Item_Fat_Content</td>\n",
       "      <td>1.567384</td>\n",
       "    </tr>\n",
       "    <tr>\n",
       "      <th>2</th>\n",
       "      <td>Item_Visibility</td>\n",
       "      <td>2.780629</td>\n",
       "    </tr>\n",
       "    <tr>\n",
       "      <th>3</th>\n",
       "      <td>Item_Type</td>\n",
       "      <td>3.926814</td>\n",
       "    </tr>\n",
       "    <tr>\n",
       "      <th>4</th>\n",
       "      <td>Item_MRP</td>\n",
       "      <td>5.937264</td>\n",
       "    </tr>\n",
       "    <tr>\n",
       "      <th>5</th>\n",
       "      <td>Outlet_Size</td>\n",
       "      <td>5.639168</td>\n",
       "    </tr>\n",
       "    <tr>\n",
       "      <th>6</th>\n",
       "      <td>Outlet_Location_Type</td>\n",
       "      <td>5.735039</td>\n",
       "    </tr>\n",
       "    <tr>\n",
       "      <th>7</th>\n",
       "      <td>Years_Established</td>\n",
       "      <td>10.952798</td>\n",
       "    </tr>\n",
       "    <tr>\n",
       "      <th>8</th>\n",
       "      <td>Outlet_Type_Supermarket Type1</td>\n",
       "      <td>4.753913</td>\n",
       "    </tr>\n",
       "    <tr>\n",
       "      <th>9</th>\n",
       "      <td>Outlet_Type_Supermarket Type2</td>\n",
       "      <td>2.428750</td>\n",
       "    </tr>\n",
       "    <tr>\n",
       "      <th>10</th>\n",
       "      <td>Outlet_Type_Supermarket Type3</td>\n",
       "      <td>2.378967</td>\n",
       "    </tr>\n",
       "  </tbody>\n",
       "</table>\n",
       "</div>"
      ],
      "text/plain": [
       "                     Ind_Features  vif_scores\n",
       "0                     Item_Weight    9.482084\n",
       "1                Item_Fat_Content    1.567384\n",
       "2                 Item_Visibility    2.780629\n",
       "3                       Item_Type    3.926814\n",
       "4                        Item_MRP    5.937264\n",
       "5                     Outlet_Size    5.639168\n",
       "6            Outlet_Location_Type    5.735039\n",
       "7               Years_Established   10.952798\n",
       "8   Outlet_Type_Supermarket Type1    4.753913\n",
       "9   Outlet_Type_Supermarket Type2    2.428750\n",
       "10  Outlet_Type_Supermarket Type3    2.378967"
      ]
     },
     "execution_count": 29,
     "metadata": {},
     "output_type": "execute_result"
    }
   ],
   "source": [
    "def vif_score(X):\n",
    "    vif_score = pd.DataFrame()\n",
    "    vif_score['Ind_Features'] = X.columns\n",
    "    vif_score['vif_scores']=[variance_inflation_factor(X.values,i) for i in range (X.shape[1])]\n",
    "    return vif_score\n",
    "\n",
    "\n",
    "vif_score(X)"
   ]
  },
  {
   "cell_type": "raw",
   "id": "b823be64",
   "metadata": {},
   "source": [
    "Intepration:\n",
    "        Since the Variance of all the Features are in a range below of 15.Hence we can conclude3 that all the Features are important ."
   ]
  },
  {
   "cell_type": "markdown",
   "id": "9a2e62fc",
   "metadata": {},
   "source": [
    "## Feature Selection: "
   ]
  },
  {
   "cell_type": "code",
   "execution_count": 30,
   "id": "ed6555a6",
   "metadata": {
    "ExecuteTime": {
     "end_time": "2021-09-27T11:14:39.790993Z",
     "start_time": "2021-09-27T11:14:39.684510Z"
    }
   },
   "outputs": [],
   "source": [
    "from sklearn.linear_model import LinearRegression\n",
    "from mlxtend.feature_selection import SequentialFeatureSelector as SFS"
   ]
  },
  {
   "cell_type": "code",
   "execution_count": 86,
   "id": "b63c3dae",
   "metadata": {
    "ExecuteTime": {
     "end_time": "2021-09-27T11:14:44.196103Z",
     "start_time": "2021-09-27T11:14:39.793995Z"
    }
   },
   "outputs": [
    {
     "name": "stdout",
     "output_type": "stream",
     "text": [
      "The features selected are :  ('Item_Fat_Content', 'Item_MRP', 'Outlet_Type_Supermarket Type1', 'Outlet_Type_Supermarket Type2', 'Outlet_Type_Supermarket Type3')\n",
      "The R2 value for the model with 5 features is : 0.5602768056816047\n"
     ]
    }
   ],
   "source": [
    "y=y\n",
    "x=df_dummy\n",
    "\n",
    "lr=LinearRegression()\n",
    "\n",
    "sfs= SFS(lr,k_features='best',forward=True,cv=10)\n",
    "sfs.fit(x,y)\n",
    "print('The features selected are : ',sfs.k_feature_names_)\n",
    "print('The R2 value for the model with 5 features is :',sfs.k_score_)\n"
   ]
  },
  {
   "cell_type": "markdown",
   "id": "503751e2-fb13-4fc8-8fe1-b1e6da3dca1e",
   "metadata": {},
   "source": [
    "## Random Forest :"
   ]
  },
  {
   "cell_type": "code",
   "execution_count": 96,
   "id": "eba61c9a-a8c5-42fd-97da-da55f9f82580",
   "metadata": {},
   "outputs": [
    {
     "name": "stdout",
     "output_type": "stream",
     "text": [
      "----------Model Report----------\n",
      "MSE:  179596.28059379035\n",
      "cv_Score:  [-1377488.66769849 -1232626.06345869 -1382761.247437   -1222597.64425289\n",
      " -1339846.65479212 -1259630.31345462 -1287150.44826781 -1305849.95090901\n",
      " -1261745.02687168 -1317062.11426558]\n",
      "Mean Cv_Score:  1298675.8131407876\n"
     ]
    },
    {
     "data": {
      "image/png": "[encoded data removed]",
      "text/plain": [
       "<Figure size 432x288 with 1 Axes>"
      ]
     },
     "metadata": {
      "needs_background": "light"
     },
     "output_type": "display_data"
    }
   ],
   "source": [
    "from sklearn.ensemble import RandomForestRegressor\n",
    "model = RandomForestRegressor()\n",
    "train(model,X,y)\n",
    "coef = pd.Series(model.feature_importances_,X.columns).sort_values(ascending=False)\n",
    "coef.plot(kind='bar',title='Feature_Importance')\n",
    "# save the model to disk\n",
    "filename = 'RandomForestRegressor.sav'\n",
    "pickle.dump(model, open(filename, 'wb'))\n"
   ]
  },
  {
   "cell_type": "markdown",
   "id": "fcd652d2-89cb-4196-bb39-a3259073b1dd",
   "metadata": {},
   "source": [
    "## Elastic Net Regressor:"
   ]
  },
  {
   "cell_type": "code",
   "execution_count": 95,
   "id": "ebaf6744-fef4-4fc2-9479-1808c8836deb",
   "metadata": {},
   "outputs": [
    {
     "name": "stdout",
     "output_type": "stream",
     "text": [
      "----------Model Report----------\n",
      "MSE:  1832628.2838488657\n",
      "cv_Score:  [-1888439.43911053 -1913323.72882104 -1776888.23638379 -1772260.34411824\n",
      " -1703305.46604437 -1774161.63493144 -1778444.29493711 -1902227.54555225\n",
      " -1928266.34665895 -1920429.37792584]\n",
      "Mean Cv_Score:  1835774.641448355\n"
     ]
    },
    {
     "data": {
      "text/plain": [
       "<AxesSubplot:title={'center':'Feature_Importance'}>"
      ]
     },
     "execution_count": 95,
     "metadata": {},
     "output_type": "execute_result"
    },
    {
     "data": {
      "image/png": "[encoded data removed]",
      "text/plain": [
       "<Figure size 432x288 with 1 Axes>"
      ]
     },
     "metadata": {
      "needs_background": "light"
     },
     "output_type": "display_data"
    }
   ],
   "source": [
    "from sklearn.linear_model import ElasticNet\n",
    "model = ElasticNet(alpha=1.0, l1_ratio=0.5)\n",
    "# save the model to disk\n",
    "filename = 'ElasticNet.sav'\n",
    "pickle.dump(model, open(filename, 'wb'))\n",
    "\n",
    "\n",
    "train(model,X,y)\n",
    "coef = pd.Series(model.coef_,X.columns).sort_values(ascending=False)\n",
    "coef.plot(kind='bar',title='Feature_Importance')"
   ]
  },
  {
   "cell_type": "code",
   "execution_count": 35,
   "id": "ce6540dc",
   "metadata": {
    "ExecuteTime": {
     "end_time": "2021-09-27T11:14:44.450650Z",
     "start_time": "2021-09-27T11:14:44.425046Z"
    }
   },
   "outputs": [
    {
     "data": {
      "text/html": [
       "<div>\n",
       "<style scoped>\n",
       "    .dataframe tbody tr th:only-of-type {\n",
       "        vertical-align: middle;\n",
       "    }\n",
       "\n",
       "    .dataframe tbody tr th {\n",
       "        vertical-align: top;\n",
       "    }\n",
       "\n",
       "    .dataframe thead th {\n",
       "        text-align: right;\n",
       "    }\n",
       "</style>\n",
       "<table border=\"1\" class=\"dataframe\">\n",
       "  <thead>\n",
       "    <tr style=\"text-align: right;\">\n",
       "      <th></th>\n",
       "      <th>Item_Weight</th>\n",
       "      <th>Item_Fat_Content</th>\n",
       "      <th>Item_Visibility</th>\n",
       "      <th>Item_Type</th>\n",
       "      <th>Item_MRP</th>\n",
       "      <th>Outlet_Size</th>\n",
       "      <th>Outlet_Location_Type</th>\n",
       "      <th>Years_Established</th>\n",
       "      <th>Outlet_Type_Supermarket Type1</th>\n",
       "      <th>Outlet_Type_Supermarket Type2</th>\n",
       "      <th>Outlet_Type_Supermarket Type3</th>\n",
       "    </tr>\n",
       "  </thead>\n",
       "  <tbody>\n",
       "    <tr>\n",
       "      <th>0</th>\n",
       "      <td>20.750</td>\n",
       "      <td>0</td>\n",
       "      <td>0.007565</td>\n",
       "      <td>13</td>\n",
       "      <td>107.8622</td>\n",
       "      <td>1</td>\n",
       "      <td>0</td>\n",
       "      <td>22</td>\n",
       "      <td>1</td>\n",
       "      <td>0</td>\n",
       "      <td>0</td>\n",
       "    </tr>\n",
       "    <tr>\n",
       "      <th>1</th>\n",
       "      <td>8.300</td>\n",
       "      <td>1</td>\n",
       "      <td>0.038428</td>\n",
       "      <td>4</td>\n",
       "      <td>87.3198</td>\n",
       "      <td>1</td>\n",
       "      <td>1</td>\n",
       "      <td>14</td>\n",
       "      <td>1</td>\n",
       "      <td>0</td>\n",
       "      <td>0</td>\n",
       "    </tr>\n",
       "    <tr>\n",
       "      <th>2</th>\n",
       "      <td>14.600</td>\n",
       "      <td>0</td>\n",
       "      <td>0.099575</td>\n",
       "      <td>11</td>\n",
       "      <td>241.7538</td>\n",
       "      <td>1</td>\n",
       "      <td>2</td>\n",
       "      <td>23</td>\n",
       "      <td>0</td>\n",
       "      <td>0</td>\n",
       "      <td>0</td>\n",
       "    </tr>\n",
       "    <tr>\n",
       "      <th>3</th>\n",
       "      <td>7.315</td>\n",
       "      <td>0</td>\n",
       "      <td>0.015388</td>\n",
       "      <td>13</td>\n",
       "      <td>155.0340</td>\n",
       "      <td>1</td>\n",
       "      <td>1</td>\n",
       "      <td>14</td>\n",
       "      <td>1</td>\n",
       "      <td>0</td>\n",
       "      <td>0</td>\n",
       "    </tr>\n",
       "    <tr>\n",
       "      <th>4</th>\n",
       "      <td>12.500</td>\n",
       "      <td>1</td>\n",
       "      <td>0.118599</td>\n",
       "      <td>4</td>\n",
       "      <td>234.2300</td>\n",
       "      <td>1</td>\n",
       "      <td>2</td>\n",
       "      <td>36</td>\n",
       "      <td>0</td>\n",
       "      <td>0</td>\n",
       "      <td>1</td>\n",
       "    </tr>\n",
       "  </tbody>\n",
       "</table>\n",
       "</div>"
      ],
      "text/plain": [
       "   Item_Weight  Item_Fat_Content  Item_Visibility  Item_Type  Item_MRP  \\\n",
       "0       20.750                 0         0.007565         13  107.8622   \n",
       "1        8.300                 1         0.038428          4   87.3198   \n",
       "2       14.600                 0         0.099575         11  241.7538   \n",
       "3        7.315                 0         0.015388         13  155.0340   \n",
       "4       12.500                 1         0.118599          4  234.2300   \n",
       "\n",
       "   Outlet_Size  Outlet_Location_Type  Years_Established  \\\n",
       "0            1                     0                 22   \n",
       "1            1                     1                 14   \n",
       "2            1                     2                 23   \n",
       "3            1                     1                 14   \n",
       "4            1                     2                 36   \n",
       "\n",
       "   Outlet_Type_Supermarket Type1  Outlet_Type_Supermarket Type2  \\\n",
       "0                              1                              0   \n",
       "1                              1                              0   \n",
       "2                              0                              0   \n",
       "3                              1                              0   \n",
       "4                              0                              0   \n",
       "\n",
       "   Outlet_Type_Supermarket Type3  \n",
       "0                              0  \n",
       "1                              0  \n",
       "2                              0  \n",
       "3                              0  \n",
       "4                              1  "
      ]
     },
     "execution_count": 35,
     "metadata": {},
     "output_type": "execute_result"
    }
   ],
   "source": [
    "df_test.head()"
   ]
  },
  {
   "cell_type": "code",
   "execution_count": 36,
   "id": "2dd103bf",
   "metadata": {
    "ExecuteTime": {
     "end_time": "2021-09-27T11:14:44.513003Z",
     "start_time": "2021-09-27T11:14:44.455680Z"
    }
   },
   "outputs": [],
   "source": [
    "x_train, x_test, y_train, y_test = train_test_split(df_dummy, y, test_size=0.2, random_state=0)"
   ]
  },
  {
   "cell_type": "code",
   "execution_count": 61,
   "id": "333e992c",
   "metadata": {
    "ExecuteTime": {
     "end_time": "2021-09-27T11:14:45.640448Z",
     "start_time": "2021-09-27T11:14:44.516005Z"
    }
   },
   "outputs": [
    {
     "name": "stdout",
     "output_type": "stream",
     "text": [
      " Mean Absolute Error: 788.04\n",
      "\n",
      " Mean Squared Error: 788.04\n",
      "\n",
      " R^2 Score: 788.0389\n",
      "\n"
     ]
    }
   ],
   "source": [
    "from sklearn.ensemble import RandomForestRegressor\n",
    "from sklearn.metrics import mean_absolute_error,accuracy_score\n",
    "from sklearn.metrics import r2_score\n",
    "#model\n",
    "regressor_rf = RandomForestRegressor(n_estimators=200,max_depth=5, min_samples_leaf=100,n_jobs=4,random_state=101)\n",
    "\n",
    "#fit\n",
    "regressor_rf.fit(x_train, y_train)\n",
    "\n",
    "#predict\n",
    "y_pred = regressor_rf.predict(x_test)\n",
    "\n",
    "#score variables\n",
    "RFR_MAE = round(mean_absolute_error(y_test, y_pred),2)\n",
    "RFR_MSE = round(mean_absolute_error(y_test, y_pred),2)\n",
    "RFR_R_2 = round(mean_absolute_error(y_test, y_pred),4)\n",
    "\n",
    "print(f\" Mean Absolute Error: {RFR_MAE}\\n\")\n",
    "print(f\" Mean Squared Error: {RFR_MSE}\\n\")\n",
    "print(f\" R^2 Score: {RFR_R_2}\\n\")\n"
   ]
  },
  {
   "cell_type": "markdown",
   "id": "8e53c903-d545-4bc9-a33c-f93d49bfab8b",
   "metadata": {},
   "source": [
    "# Final Model For Pickle"
   ]
  },
  {
   "cell_type": "code",
   "execution_count": 89,
   "id": "4aa6c3c6-bef8-4af3-8122-fe9f86e4032f",
   "metadata": {},
   "outputs": [],
   "source": [
    "model_rf = RandomForestRegressor()"
   ]
  },
  {
   "cell_type": "code",
   "execution_count": 90,
   "id": "f7ddf377",
   "metadata": {
    "ExecuteTime": {
     "end_time": "2021-09-27T11:14:46.707541Z",
     "start_time": "2021-09-27T11:14:45.644442Z"
    }
   },
   "outputs": [],
   "source": [
    "RF_model_full = model_rf.fit(X , y)"
   ]
  },
  {
   "cell_type": "code",
   "execution_count": 92,
   "id": "a96a8adb",
   "metadata": {
    "ExecuteTime": {
     "end_time": "2021-09-27T11:14:46.723548Z",
     "start_time": "2021-09-27T11:14:46.711536Z"
    }
   },
   "outputs": [],
   "source": [
    "import pickle"
   ]
  },
  {
   "cell_type": "code",
   "execution_count": 93,
   "id": "6e75092e",
   "metadata": {
    "ExecuteTime": {
     "end_time": "2021-09-27T11:14:46.801462Z",
     "start_time": "2021-09-27T11:14:46.727532Z"
    }
   },
   "outputs": [],
   "source": [
    "pickle.dump(RF_model_full,open('model.pkl','wb'))"
   ]
  },
  {
   "cell_type": "markdown",
   "id": "0fd63055",
   "metadata": {},
   "source": [
    "# Conclusion:"
   ]
  },
  {
   "cell_type": "raw",
   "id": "f5c75bd7",
   "metadata": {},
   "source": [
    "As Random Forest Regressor has the lowest MSE Rate ,thus we select Random Forest Regressor as Final model for prediction. "
   ]
  }
 ],
 "metadata": {
  "hide_input": false,
  "kernelspec": {
   "display_name": "Python 3 (ipykernel)",
   "language": "python",
   "name": "python3"
  },
  "language_info": {
   "codemirror_mode": {
    "name": "ipython",
    "version": 3
   },
   "file_extension": ".py",
   "mimetype": "text/x-python",
   "name": "python",
   "nbconvert_exporter": "python",
   "pygments_lexer": "ipython3",
   "version": "3.8.12"
  },
  "varInspector": {
   "cols": {
    "lenName": 16,
    "lenType": 16,
    "lenVar": 40
   },
   "kernels_config": {
    "python": {
     "delete_cmd_postfix": "",
     "delete_cmd_prefix": "del ",
     "library": "var_list.py",
     "varRefreshCmd": "print(var_dic_list())"
    },
    "r": {
     "delete_cmd_postfix": ") ",
     "delete_cmd_prefix": "rm(",
     "library": "var_list.r",
     "varRefreshCmd": "cat(var_dic_list()) "
    }
   },
   "types_to_exclude": [
    "module",
    "function",
    "builtin_function_or_method",
    "instance",
    "_Feature"
   ],
   "window_display": false
  }
 },
 "nbformat": 4,
 "nbformat_minor": 5
}
